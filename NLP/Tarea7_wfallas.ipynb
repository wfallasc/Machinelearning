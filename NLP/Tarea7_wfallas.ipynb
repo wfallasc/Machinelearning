{
 "cells": [
  {
   "cell_type": "code",
   "execution_count": 328,
   "id": "corrected-smile",
   "metadata": {},
   "outputs": [],
   "source": [
    "import warnings\n",
    "warnings.filterwarnings('ignore')\n",
    "\n",
    "import numpy as np\n",
    "import matplotlib.pyplot as plt\n",
    "import matplotlib as mpl\n",
    "import pandas as pd\n",
    "import tensorflow as tf\n",
    "from tensorflow import keras"
   ]
  },
  {
   "cell_type": "code",
   "execution_count": 329,
   "id": "assisted-constant",
   "metadata": {},
   "outputs": [
    {
     "name": "stdout",
     "output_type": "stream",
     "text": [
      "\"Automatic\" simply means that you cannot repair it yourself.\n",
      "\n",
      "90% of everything is crud.\n",
      "\n",
      "A Project Manager is like the madam in a brothel. His job is to see\n",
      "that everything comes off right.\n",
      "\n",
      "A Smith & Wesson always beats four aces.\n",
      "\n",
      "A bird in hand is safer than one overhead.\n",
      "\n",
      "A bird in the hand is \n"
     ]
    }
   ],
   "source": [
    "\n",
    "filepath = \"jokes.txt\"\n",
    "with open(filepath) as f:\n",
    "    jokes_text = f.read()\n",
    "print(jokes_text[:300])"
   ]
  },
  {
   "cell_type": "code",
   "execution_count": 330,
   "id": "changing-potter",
   "metadata": {},
   "outputs": [],
   "source": [
    "import string\n",
    "def clean_text(txt):\n",
    "    txt = \"\".join(v for v in txt if v not in string.punctuation).lower()\n",
    "    txt = txt.encode(\"utf8\").decode(\"ascii\",'ignore')\n",
    "    return txt \n",
    "\n",
    "corpus = [clean_text(x) for x in jokes_text]\n",
    "corpus[:10]\n",
    "\n",
    "jokes_text= corpus"
   ]
  },
  {
   "cell_type": "markdown",
   "id": "nervous-classics",
   "metadata": {},
   "source": [
    "### Tokenizacion del texto"
   ]
  },
  {
   "cell_type": "code",
   "execution_count": 331,
   "id": "undefined-stone",
   "metadata": {},
   "outputs": [],
   "source": [
    "tokenizer = keras.preprocessing.text.Tokenizer(char_level=True)\n",
    "tokenizer.fit_on_texts(jokes_text)"
   ]
  },
  {
   "cell_type": "markdown",
   "id": "referenced-yemen",
   "metadata": {},
   "source": [
    "### Probar la tokenizacion"
   ]
  },
  {
   "cell_type": "code",
   "execution_count": 332,
   "id": "emotional-execution",
   "metadata": {},
   "outputs": [
    {
     "data": {
      "text/plain": [
       "[[10, 5, 7, 13]]"
      ]
     },
     "execution_count": 332,
     "metadata": {},
     "output_type": "execute_result"
    }
   ],
   "source": [
    "\n",
    "# probamos la palabra\n",
    "tokenizer.texts_to_sequences([\"hand\"])"
   ]
  },
  {
   "cell_type": "markdown",
   "id": "fuzzy-forward",
   "metadata": {},
   "source": [
    "### Probar el inverso"
   ]
  },
  {
   "cell_type": "code",
   "execution_count": 333,
   "id": "narrow-freeware",
   "metadata": {},
   "outputs": [
    {
     "data": {
      "text/plain": [
       "['h a n d']"
      ]
     },
     "execution_count": 333,
     "metadata": {},
     "output_type": "execute_result"
    }
   ],
   "source": [
    "tokenizer.sequences_to_texts([[10, 5, 7, 13]])"
   ]
  },
  {
   "cell_type": "code",
   "execution_count": 334,
   "id": "disturbed-feeling",
   "metadata": {},
   "outputs": [
    {
     "name": "stdout",
     "output_type": "stream",
     "text": [
      "Elementos distintos 36\n",
      "Cantidad de elementos 47809\n"
     ]
    }
   ],
   "source": [
    "# numero de caracteres distintos\n",
    "max_id = len(tokenizer.word_index) \n",
    "\n",
    "# cantidad total del caracteres\n",
    "dataset_size = tokenizer.document_count\n",
    "\n",
    "print(\"Elementos distintos\",max_id)\n",
    "print(\"Cantidad de elementos\",dataset_size)"
   ]
  },
  {
   "cell_type": "markdown",
   "id": "younger-buying",
   "metadata": {},
   "source": [
    "### Crear el Train-Set usando las Funciones de NLP"
   ]
  },
  {
   "cell_type": "code",
   "execution_count": 335,
   "id": "biblical-therapy",
   "metadata": {},
   "outputs": [],
   "source": [
    "[encoded] = np.array(tokenizer.texts_to_sequences([jokes_text])) - 1\n",
    "train_size = dataset_size * 90 // 100\n",
    "dataset = tf.data.Dataset.from_tensor_slices(encoded[:train_size])"
   ]
  },
  {
   "cell_type": "code",
   "execution_count": 336,
   "id": "relevant-threat",
   "metadata": {},
   "outputs": [],
   "source": [
    "# se define que las cadenas son de 100 caracteres con 1 caracter de shift\n",
    "n_steps = 100\n",
    "window_length = n_steps + 1 # tamano de la ventana\n",
    "dataset = dataset.repeat().window(window_length, shift=1, drop_remainder=True)\n",
    "\n",
    "# se generan las cadenas planas\n",
    "dataset = dataset.flat_map(lambda window: window.batch(window_length))"
   ]
  },
  {
   "cell_type": "code",
   "execution_count": 337,
   "id": "loved-colombia",
   "metadata": {},
   "outputs": [
    {
     "name": "stdout",
     "output_type": "stream",
     "text": [
      "(30, 100, 36) (30, 100)\n"
     ]
    }
   ],
   "source": [
    "np.random.seed(42)\n",
    "tf.random.set_seed(42)\n",
    "batch_size = 30\n",
    "\n",
    "encoded_parts = np.array_split(encoded[:train_size], batch_size)\n",
    "datasets = []\n",
    "\n",
    "for encoded_part in encoded_parts:\n",
    "    dataset = tf.data.Dataset.from_tensor_slices(encoded_part)\n",
    "    dataset = dataset.window(window_length, shift=n_steps, drop_remainder=True)\n",
    "    dataset = dataset.flat_map(lambda window: window.batch(window_length))\n",
    "    datasets.append(dataset)\n",
    "\n",
    "    dataset = tf.data.Dataset.zip(tuple(datasets)).map(lambda *windows: tf.stack(windows))\n",
    "dataset = dataset.repeat().map(lambda windows: (windows[:, :-1], windows[:, 1:]))\n",
    "dataset = dataset.map(\n",
    "    lambda x_train, y_train: (tf.one_hot(x_train, depth=max_id), y_train))\n",
    "dataset = dataset.prefetch(1)\n",
    "\n",
    "# se revisan los tamanos de los tensores generados\n",
    "for x, y in dataset.take(1):\n",
    "    print(x.shape, y.shape)"
   ]
  },
  {
   "cell_type": "code",
   "execution_count": 338,
   "id": "timely-victor",
   "metadata": {},
   "outputs": [],
   "source": [
    "class ResetStatesCallback(keras.callbacks.Callback):\n",
    "    def on_epoch_begin(self, epoch, logs):\n",
    "        self.model.reset_states()"
   ]
  },
  {
   "cell_type": "code",
   "execution_count": 342,
   "id": "headed-retreat",
   "metadata": {},
   "outputs": [
    {
     "name": "stdout",
     "output_type": "stream",
     "text": [
      "Epoch 1/100\n",
      "14/14 [==============================] - 7s 220ms/step - loss: 3.4877\n",
      "Epoch 2/100\n",
      "14/14 [==============================] - 3s 223ms/step - loss: 3.0000\n",
      "Epoch 3/100\n",
      "14/14 [==============================] - 4s 273ms/step - loss: 2.9108\n",
      "Epoch 4/100\n",
      "14/14 [==============================] - 4s 291ms/step - loss: 2.8696\n",
      "Epoch 5/100\n",
      "14/14 [==============================] - 4s 298ms/step - loss: 2.8111\n",
      "Epoch 6/100\n",
      "14/14 [==============================] - 4s 302ms/step - loss: 2.7159\n",
      "Epoch 7/100\n",
      "14/14 [==============================] - 4s 301ms/step - loss: 2.6220\n",
      "Epoch 8/100\n",
      "14/14 [==============================] - 4s 293ms/step - loss: 2.5515\n",
      "Epoch 9/100\n",
      "14/14 [==============================] - 4s 273ms/step - loss: 2.5063\n",
      "Epoch 10/100\n",
      "14/14 [==============================] - 4s 277ms/step - loss: 2.4772\n",
      "Epoch 11/100\n",
      "14/14 [==============================] - 4s 279ms/step - loss: 2.4445\n",
      "Epoch 12/100\n",
      "14/14 [==============================] - 4s 274ms/step - loss: 2.4291\n",
      "Epoch 13/100\n",
      "14/14 [==============================] - 4s 272ms/step - loss: 2.4147\n",
      "Epoch 14/100\n",
      "14/14 [==============================] - 4s 267ms/step - loss: 2.3963\n",
      "Epoch 15/100\n",
      "14/14 [==============================] - 4s 272ms/step - loss: 2.3795\n",
      "Epoch 16/100\n",
      "14/14 [==============================] - 4s 273ms/step - loss: 2.3595\n",
      "Epoch 17/100\n",
      "14/14 [==============================] - 4s 274ms/step - loss: 2.3410\n",
      "Epoch 18/100\n",
      "14/14 [==============================] - 4s 274ms/step - loss: 2.3253\n",
      "Epoch 19/100\n",
      "14/14 [==============================] - 4s 288ms/step - loss: 2.3088\n",
      "Epoch 20/100\n",
      "14/14 [==============================] - 4s 305ms/step - loss: 2.2882\n",
      "Epoch 21/100\n",
      "14/14 [==============================] - 4s 292ms/step - loss: 2.2731\n",
      "Epoch 22/100\n",
      "14/14 [==============================] - 4s 282ms/step - loss: 2.2582\n",
      "Epoch 23/100\n",
      "14/14 [==============================] - 4s 294ms/step - loss: 2.2394\n",
      "Epoch 24/100\n",
      "14/14 [==============================] - 4s 278ms/step - loss: 2.2311\n",
      "Epoch 25/100\n",
      "14/14 [==============================] - 4s 302ms/step - loss: 2.2078\n",
      "Epoch 26/100\n",
      "14/14 [==============================] - 4s 286ms/step - loss: 2.1949\n",
      "Epoch 27/100\n",
      "14/14 [==============================] - 4s 281ms/step - loss: 2.1800\n",
      "Epoch 28/100\n",
      "14/14 [==============================] - 4s 288ms/step - loss: 2.1682\n",
      "Epoch 29/100\n",
      "14/14 [==============================] - 4s 290ms/step - loss: 2.1485\n",
      "Epoch 30/100\n",
      "14/14 [==============================] - 4s 284ms/step - loss: 2.1353\n",
      "Epoch 31/100\n",
      "14/14 [==============================] - 4s 284ms/step - loss: 2.1218\n",
      "Epoch 32/100\n",
      "14/14 [==============================] - 4s 276ms/step - loss: 2.1081\n",
      "Epoch 33/100\n",
      "14/14 [==============================] - 4s 276ms/step - loss: 2.0979\n",
      "Epoch 34/100\n",
      "14/14 [==============================] - 4s 275ms/step - loss: 2.0821\n",
      "Epoch 35/100\n",
      "14/14 [==============================] - 4s 280ms/step - loss: 2.0735\n",
      "Epoch 36/100\n",
      "14/14 [==============================] - 4s 278ms/step - loss: 2.0638\n",
      "Epoch 37/100\n",
      "14/14 [==============================] - 4s 278ms/step - loss: 2.0603\n",
      "Epoch 38/100\n",
      "14/14 [==============================] - 4s 278ms/step - loss: 2.0609\n",
      "Epoch 39/100\n",
      "14/14 [==============================] - 4s 286ms/step - loss: 2.0373\n",
      "Epoch 40/100\n",
      "14/14 [==============================] - 4s 283ms/step - loss: 2.0277\n",
      "Epoch 41/100\n",
      "14/14 [==============================] - 4s 282ms/step - loss: 2.0161\n",
      "Epoch 42/100\n",
      "14/14 [==============================] - 4s 293ms/step - loss: 2.0091\n",
      "Epoch 43/100\n",
      "14/14 [==============================] - 4s 286ms/step - loss: 2.0043\n",
      "Epoch 44/100\n",
      "14/14 [==============================] - 4s 277ms/step - loss: 1.9915\n",
      "Epoch 45/100\n",
      "14/14 [==============================] - 4s 274ms/step - loss: 1.9830\n",
      "Epoch 46/100\n",
      "14/14 [==============================] - 4s 277ms/step - loss: 1.9672\n",
      "Epoch 47/100\n",
      "14/14 [==============================] - 4s 277ms/step - loss: 1.9684\n",
      "Epoch 48/100\n",
      "14/14 [==============================] - 4s 282ms/step - loss: 1.9602\n",
      "Epoch 49/100\n",
      "14/14 [==============================] - 4s 283ms/step - loss: 1.9532\n",
      "Epoch 50/100\n",
      "14/14 [==============================] - 4s 285ms/step - loss: 1.9431\n",
      "Epoch 51/100\n",
      "14/14 [==============================] - 4s 281ms/step - loss: 1.9328\n",
      "Epoch 52/100\n",
      "14/14 [==============================] - 4s 275ms/step - loss: 1.9273\n",
      "Epoch 53/100\n",
      "14/14 [==============================] - 4s 287ms/step - loss: 1.9294\n",
      "Epoch 54/100\n",
      "14/14 [==============================] - 4s 280ms/step - loss: 1.9108\n",
      "Epoch 55/100\n",
      "14/14 [==============================] - 4s 279ms/step - loss: 1.9430\n",
      "Epoch 56/100\n",
      "14/14 [==============================] - 4s 288ms/step - loss: 1.9115\n",
      "Epoch 57/100\n",
      "14/14 [==============================] - 4s 280ms/step - loss: 1.8963\n",
      "Epoch 58/100\n",
      "14/14 [==============================] - 4s 270ms/step - loss: 1.8846\n",
      "Epoch 59/100\n",
      "14/14 [==============================] - 4s 276ms/step - loss: 1.8825\n",
      "Epoch 60/100\n",
      "14/14 [==============================] - 4s 284ms/step - loss: 1.8802\n",
      "Epoch 61/100\n",
      "14/14 [==============================] - 4s 277ms/step - loss: 1.9097\n",
      "Epoch 62/100\n",
      "14/14 [==============================] - 4s 279ms/step - loss: 1.8643\n",
      "Epoch 63/100\n",
      "14/14 [==============================] - 4s 278ms/step - loss: 1.9054\n",
      "Epoch 64/100\n",
      "14/14 [==============================] - 4s 278ms/step - loss: 1.8684\n",
      "Epoch 65/100\n",
      "14/14 [==============================] - 4s 272ms/step - loss: 1.8489\n",
      "Epoch 66/100\n",
      "14/14 [==============================] - 4s 278ms/step - loss: 1.8493\n",
      "Epoch 67/100\n",
      "14/14 [==============================] - 4s 281ms/step - loss: 1.8423\n",
      "Epoch 68/100\n",
      "14/14 [==============================] - 4s 277ms/step - loss: 1.8883\n",
      "Epoch 69/100\n",
      "14/14 [==============================] - 4s 279ms/step - loss: 1.8283\n",
      "Epoch 70/100\n",
      "14/14 [==============================] - 4s 282ms/step - loss: 1.8303\n",
      "Epoch 71/100\n",
      "14/14 [==============================] - 4s 277ms/step - loss: 1.8240\n",
      "Epoch 72/100\n",
      "14/14 [==============================] - 4s 286ms/step - loss: 1.8131\n",
      "Epoch 73/100\n",
      "14/14 [==============================] - 5s 382ms/step - loss: 1.8534\n",
      "Epoch 74/100\n",
      "14/14 [==============================] - 4s 296ms/step - loss: 1.8120\n",
      "Epoch 75/100\n",
      "14/14 [==============================] - 4s 294ms/step - loss: 1.8034\n",
      "Epoch 76/100\n",
      "14/14 [==============================] - 4s 291ms/step - loss: 1.7991\n",
      "Epoch 77/100\n",
      "14/14 [==============================] - 4s 285ms/step - loss: 1.7993\n",
      "Epoch 78/100\n",
      "14/14 [==============================] - 4s 287ms/step - loss: 1.8001\n",
      "Epoch 79/100\n",
      "14/14 [==============================] - 4s 290ms/step - loss: 1.7939\n",
      "Epoch 80/100\n",
      "14/14 [==============================] - 4s 295ms/step - loss: 1.7868\n",
      "Epoch 81/100\n",
      "14/14 [==============================] - 4s 304ms/step - loss: 1.8233\n",
      "Epoch 82/100\n",
      "14/14 [==============================] - 4s 293ms/step - loss: 1.7807\n",
      "Epoch 83/100\n",
      "14/14 [==============================] - 4s 286ms/step - loss: 1.7773\n",
      "Epoch 84/100\n",
      "14/14 [==============================] - 4s 312ms/step - loss: 1.7754\n",
      "Epoch 85/100\n",
      "14/14 [==============================] - 4s 318ms/step - loss: 1.7627\n",
      "Epoch 86/100\n",
      "14/14 [==============================] - 5s 322ms/step - loss: 1.7662\n",
      "Epoch 87/100\n",
      "14/14 [==============================] - 4s 317ms/step - loss: 1.7580\n",
      "Epoch 88/100\n",
      "14/14 [==============================] - 5s 327ms/step - loss: 1.7574\n",
      "Epoch 89/100\n",
      "14/14 [==============================] - 4s 291ms/step - loss: 1.7553\n",
      "Epoch 90/100\n",
      "14/14 [==============================] - 4s 289ms/step - loss: 1.7544\n",
      "Epoch 91/100\n",
      "14/14 [==============================] - 4s 295ms/step - loss: 1.7503\n",
      "Epoch 92/100\n",
      "14/14 [==============================] - 4s 291ms/step - loss: 1.7409\n",
      "Epoch 93/100\n",
      "14/14 [==============================] - 4s 295ms/step - loss: 1.7446\n",
      "Epoch 94/100\n",
      "14/14 [==============================] - 4s 292ms/step - loss: 1.7366\n",
      "Epoch 95/100\n",
      "14/14 [==============================] - 4s 292ms/step - loss: 1.7323\n",
      "Epoch 96/100\n",
      "14/14 [==============================] - 4s 290ms/step - loss: 1.7332\n",
      "Epoch 97/100\n",
      "14/14 [==============================] - 4s 290ms/step - loss: 1.7239\n",
      "Epoch 98/100\n",
      "14/14 [==============================] - 4s 297ms/step - loss: 1.7338\n",
      "Epoch 99/100\n"
     ]
    },
    {
     "name": "stdout",
     "output_type": "stream",
     "text": [
      "14/14 [==============================] - 4s 287ms/step - loss: 1.7244\n",
      "Epoch 100/100\n",
      "14/14 [==============================] - 4s 286ms/step - loss: 1.7151\n"
     ]
    }
   ],
   "source": [
    "# arquitecturta\n",
    "model = keras.models.Sequential([\n",
    "    keras.layers.GRU(128, return_sequences=True, stateful=True,\n",
    "                     dropout=0.2, recurrent_dropout=0.2,\n",
    "                     batch_input_shape=[batch_size, None, max_id]),\n",
    "    keras.layers.GRU(128, return_sequences=True, stateful=True,\n",
    "                     dropout=0.2, recurrent_dropout=0.2),\n",
    "    keras.layers.TimeDistributed(keras.layers.Dense(max_id,activation=\"softmax\"))\n",
    "])\n",
    "\n",
    "# compilacion y entrenamiento\n",
    "model.compile(loss=\"sparse_categorical_crossentropy\", optimizer=\"adam\")\n",
    "steps_per_epoch = train_size // batch_size // n_steps\n",
    "history = model.fit(dataset, steps_per_epoch=steps_per_epoch, epochs=100,\n",
    "                    callbacks=[ResetStatesCallback()])"
   ]
  },
  {
   "cell_type": "code",
   "execution_count": 343,
   "id": "unlimited-circus",
   "metadata": {},
   "outputs": [
    {
     "data": {
      "image/png": "[encoded data removed]",
      "text/plain": [
       "<Figure size 432x288 with 1 Axes>"
      ]
     },
     "metadata": {
      "needs_background": "light"
     },
     "output_type": "display_data"
    }
   ],
   "source": [
    "loss = history.history[\"loss\"]\n",
    "epochs = range(len(loss))\n",
    "plt.figure()\n",
    "plt.plot(epochs, loss, \"b\", label=\"Training loss\")\n",
    "\n",
    "plt.title(\"Model Loss\")\n",
    "plt.xlabel(\"Epochs\")\n",
    "plt.ylabel(\"Loss\")\n",
    "plt.legend()\n",
    "plt.show()"
   ]
  },
  {
   "cell_type": "code",
   "execution_count": 344,
   "id": "sensitive-japan",
   "metadata": {},
   "outputs": [],
   "source": [
    "# esto es un super hack!\n",
    "stateless_model = keras.models.Sequential([\n",
    "    keras.layers.GRU(128, return_sequences=True, input_shape=[None, max_id]),\n",
    "    keras.layers.GRU(128, return_sequences=True),\n",
    "    keras.layers.TimeDistributed(keras.layers.Dense(max_id,\n",
    "                                                    activation=\"softmax\"))\n",
    "])\n",
    "\n",
    "stateless_model.build(tf.TensorShape([None, None, max_id]))\n",
    "stateless_model.set_weights(model.get_weights())"
   ]
  },
  {
   "cell_type": "markdown",
   "id": "editorial-trigger",
   "metadata": {},
   "source": [
    "### Save the model"
   ]
  },
  {
   "cell_type": "code",
   "execution_count": 345,
   "id": "rising-contrary",
   "metadata": {},
   "outputs": [],
   "source": [
    "model = stateless_model\n",
    "\n",
    "# Guardar el Modelo\n",
    "model.save('Jokes_model.h5')"
   ]
  },
  {
   "cell_type": "markdown",
   "id": "primary-closer",
   "metadata": {},
   "source": [
    "## Generacion de Texto"
   ]
  },
  {
   "cell_type": "code",
   "execution_count": 346,
   "id": "confirmed-tutorial",
   "metadata": {},
   "outputs": [
    {
     "name": "stdout",
     "output_type": "stream",
     "text": [
      "WARNING:tensorflow:No training configuration found in the save file, so the model was *not* compiled. Compile it manually.\n"
     ]
    }
   ],
   "source": [
    "model = keras.models.load_model('Jokes_model.h5')"
   ]
  },
  {
   "cell_type": "code",
   "execution_count": 347,
   "id": "official-program",
   "metadata": {},
   "outputs": [
    {
     "data": {
      "text/plain": [
       "36"
      ]
     },
     "execution_count": 347,
     "metadata": {},
     "output_type": "execute_result"
    }
   ],
   "source": [
    "tokenizer = keras.preprocessing.text.Tokenizer(char_level=True)\n",
    "tokenizer.fit_on_texts(jokes_text)\n",
    "max_id = len(tokenizer.word_index) \n",
    "max_id"
   ]
  },
  {
   "cell_type": "code",
   "execution_count": 348,
   "id": "legendary-consistency",
   "metadata": {},
   "outputs": [],
   "source": [
    "def preprocess(texts):\n",
    "    X = np.array(tokenizer.texts_to_sequences(texts)) - 1\n",
    "    return tf.one_hot(X, max_id)"
   ]
  },
  {
   "cell_type": "code",
   "execution_count": 349,
   "id": "naval-tenant",
   "metadata": {},
   "outputs": [
    {
     "data": {
      "text/plain": [
       "TensorShape([1, 6, 36])"
      ]
     },
     "execution_count": 349,
     "metadata": {},
     "output_type": "execute_result"
    }
   ],
   "source": [
    "X_new = preprocess([\"my nam\"])\n",
    "X_new.shape"
   ]
  },
  {
   "cell_type": "code",
   "execution_count": 350,
   "id": "specific-stuff",
   "metadata": {},
   "outputs": [
    {
     "name": "stdout",
     "output_type": "stream",
     "text": [
      "[[4 0 5 3 2 1]]\n"
     ]
    },
    {
     "data": {
      "text/plain": [
       "'e'"
      ]
     },
     "execution_count": 350,
     "metadata": {},
     "output_type": "execute_result"
    }
   ],
   "source": [
    "#model = keras.models.load_model('Jokes_model.h5')\n",
    "Y_pred = model.predict_classes(X_new)\n",
    "print(Y_pred)\n",
    "tokenizer.sequences_to_texts(Y_pred + 1)[0][-1] # primera oracion ultimo caracter."
   ]
  },
  {
   "cell_type": "code",
   "execution_count": 351,
   "id": "swedish-landing",
   "metadata": {},
   "outputs": [],
   "source": [
    "def next_char(text, temperature=1):\n",
    "    X_new = preprocess([text])\n",
    "    y_proba = model.predict(X_new)[0, -1:, :]\n",
    "    rescaled_logits = tf.math.log(y_proba) / temperature\n",
    "    char_id = tf.random.categorical(rescaled_logits, num_samples=1) + 1\n",
    "    return tokenizer.sequences_to_texts(char_id.numpy())[0]"
   ]
  },
  {
   "cell_type": "code",
   "execution_count": 365,
   "id": "separate-equipment",
   "metadata": {},
   "outputs": [],
   "source": [
    "def complete_text(text, n_chars=20, temperature=1):\n",
    "    for _ in range(n_chars):\n",
    "        text += next_char(text, temperature)\n",
    "    return text"
   ]
  },
  {
   "cell_type": "code",
   "execution_count": 391,
   "id": "answering-torture",
   "metadata": {},
   "outputs": [
    {
     "name": "stdout",
     "output_type": "stream",
     "text": [
      "the tire dog in anyone like to to\n"
     ]
    }
   ],
   "source": [
    "print(complete_text(\"the tire dog \", temperature=0.6))"
   ]
  },
  {
   "cell_type": "code",
   "execution_count": 390,
   "id": "voluntary-cheat",
   "metadata": {},
   "outputs": [
    {
     "name": "stdout",
     "output_type": "stream",
     "text": [
      "son of the most rays ad tuke it\n"
     ]
    }
   ],
   "source": [
    "print(complete_text(\"son of the \", temperature=1))"
   ]
  },
  {
   "cell_type": "code",
   "execution_count": 399,
   "id": "clinical-choice",
   "metadata": {},
   "outputs": [
    {
     "name": "stdout",
     "output_type": "stream",
     "text": [
      "Dont mess with 1w when fasts\n",
      "\n",
      "from \n"
     ]
    }
   ],
   "source": [
    "print(complete_text(\"Dont mess with \", temperature=1))\n"
   ]
  }
 ],
 "metadata": {
  "kernelspec": {
   "display_name": "Python 3",
   "language": "python",
   "name": "python3"
  },
  "language_info": {
   "codemirror_mode": {
    "name": "ipython",
    "version": 3
   },
   "file_extension": ".py",
   "mimetype": "text/x-python",
   "name": "python",
   "nbconvert_exporter": "python",
   "pygments_lexer": "ipython3",
   "version": "3.7.3"
  }
 },
 "nbformat": 4,
 "nbformat_minor": 5
}

{
 "cells": [
  {
   "cell_type": "markdown",
   "id": "bizarre-eugene",
   "metadata": {},
   "source": [
    "\n",
    "\n",
    "### William Fallas. williamfallas@gmail.com"
   ]
  },
  {
   "cell_type": "markdown",
   "id": "unusual-capitol",
   "metadata": {},
   "source": [
    "#### Spech and translation with  Azure cognitive services"
   ]
  },
  {
   "cell_type": "markdown",
   "id": "proof-handy",
   "metadata": {},
   "source": [
    "The following project shows how to extract audio from video and translate  the same from english to spanish\n",
    "\n",
    "\n",
    "Main Steps\n",
    "\n",
    "     -extract audio was format\n",
    "    - Change stereo to mono\n",
    "    - upload wav file to google bucket\n",
    "    - Use the SpeechClient API, long_running_recognize method to get the english transcript\n",
    "    - Use translate_v2 API to translate the transcript from english to spanish\n",
    "    - Transform the spanish transcript to voice with  the texttospeech API \n",
    "    - Save the result in a mp3 file and play"
   ]
  },
  {
   "cell_type": "code",
   "execution_count": 1,
   "id": "specialized-investor",
   "metadata": {},
   "outputs": [
    {
     "name": "stdout",
     "output_type": "stream",
     "text": [
      "Collecting azure-cognitiveservices-speech\n",
      "  Downloading azure_cognitiveservices_speech-1.16.0-cp37-cp37m-win_amd64.whl (1.7 MB)\n",
      "Installing collected packages: azure-cognitiveservices-speech\n",
      "Successfully installed azure-cognitiveservices-speech-1.16.0\n"
     ]
    }
   ],
   "source": [
    "!pip install azure-cognitiveservices-speech"
   ]
  },
  {
   "cell_type": "code",
   "execution_count": 8,
   "id": "three-breathing",
   "metadata": {},
   "outputs": [],
   "source": [
    "import azure.cognitiveservices.speech as speechsdk\n",
    "\n",
    "import moviepy\n",
    "from pydub import AudioSegment\n",
    "import io\n",
    "import os\n",
    "import wave\n",
    "import time"
   ]
  },
  {
   "cell_type": "code",
   "execution_count": 4,
   "id": "balanced-inspiration",
   "metadata": {},
   "outputs": [],
   "source": [
    "def stereo_to_mono(audio_file_name):\n",
    "    sound = AudioSegment.from_wav(audio_file_name)\n",
    "    sound = sound.set_channels(1)\n",
    "    sound.export(audio_file_name, format=\"wav\")\n",
    "\n",
    "\n",
    "def frame_rate_channel(audio_file_name):\n",
    "    with wave.open(audio_file_name, \"rb\") as wave_file:\n",
    "        frame_rate = wave_file.getframerate()\n",
    "        channels = wave_file.getnchannels()\n",
    "        return frame_rate,channels\n",
    "    \n",
    "    "
   ]
  },
  {
   "cell_type": "code",
   "execution_count": 35,
   "id": "demonstrated-religion",
   "metadata": {},
   "outputs": [
    {
     "name": "stdout",
     "output_type": "stream",
     "text": [
      "Collecting pytubeNote: you may need to restart the kernel to use updated packages.\n",
      "  Downloading pytube-10.7.1-py3-none-any.whl (43 kB)\n",
      "Installing collected packages: pytube\n",
      "Successfully installed pytube-10.7.1\n",
      "\n"
     ]
    }
   ],
   "source": [
    "pip install pytube"
   ]
  },
  {
   "cell_type": "markdown",
   "id": "occupied-jacob",
   "metadata": {},
   "source": [
    "## Get Churchill speech from youtube"
   ]
  },
  {
   "cell_type": "code",
   "execution_count": 39,
   "id": "strange-diagnosis",
   "metadata": {},
   "outputs": [
    {
     "data": {
      "text/plain": [
       "'C:\\\\Users\\\\wfc\\\\Documents\\\\IA\\\\CENFOTEC\\\\curso2 Aprendizaje Profundo\\\\Semana6-Cloud\\\\Semana6-Cloud\\\\Winston S Churchill We Shall Fight on the Beaches.mp4'"
      ]
     },
     "execution_count": 39,
     "metadata": {},
     "output_type": "execute_result"
    }
   ],
   "source": [
    "from pytube import YouTube\n",
    "YouTube('https://www.youtube.com/watch?v=MkTw3_PmKtc').streams.first().download()"
   ]
  },
  {
   "cell_type": "markdown",
   "id": "silent-bolivia",
   "metadata": {},
   "source": [
    "## Get Audio speech and save in .wav format"
   ]
  },
  {
   "cell_type": "code",
   "execution_count": 40,
   "id": "conscious-limitation",
   "metadata": {},
   "outputs": [
    {
     "name": "stderr",
     "output_type": "stream",
     "text": [
      "chunk:   0%|                                                                | 3/3182 [00:00<02:26, 21.69it/s, now=None]"
     ]
    },
    {
     "name": "stdout",
     "output_type": "stream",
     "text": [
      "MoviePy - Writing audio in Churchil.wav\n"
     ]
    },
    {
     "name": "stderr",
     "output_type": "stream",
     "text": [
      "                                                                                                                       "
     ]
    },
    {
     "name": "stdout",
     "output_type": "stream",
     "text": [
      "MoviePy - Done.\n"
     ]
    },
    {
     "name": "stderr",
     "output_type": "stream",
     "text": [
      "\r"
     ]
    }
   ],
   "source": [
    "import moviepy.editor\n",
    "video = moviepy.editor.VideoFileClip(\"Churchil.mp4\")\n",
    "\n",
    "audio = video.audio\n",
    "\n",
    "audio.write_audiofile(\"Churchil.wav\")"
   ]
  },
  {
   "cell_type": "markdown",
   "id": "compatible-ranking",
   "metadata": {},
   "source": [
    "## Convert .wav audio to mono"
   ]
  },
  {
   "cell_type": "code",
   "execution_count": 5,
   "id": "pressing-brief",
   "metadata": {},
   "outputs": [],
   "source": [
    "file_name=\"Churchil.wav\"\n",
    "\n",
    "frame_rate, channels = frame_rate_channel(file_name)\n",
    "    \n",
    "if channels > 1:\n",
    "    stereo_to_mono(file_name)"
   ]
  },
  {
   "cell_type": "markdown",
   "id": "assured-timothy",
   "metadata": {},
   "source": [
    "##  Uses speechsdk to get the transcript"
   ]
  },
  {
   "cell_type": "code",
   "execution_count": 9,
   "id": "broad-facility",
   "metadata": {},
   "outputs": [],
   "source": [
    "speech_config = speechsdk.SpeechConfig(subscription=\"\", region=\"\")"
   ]
  },
  {
   "cell_type": "markdown",
   "id": "reflected-female",
   "metadata": {},
   "source": [
    "By default speech sdk returns only 15 seconds of the transcript, this custom function returns the transcript for a long audio"
   ]
  },
  {
   "cell_type": "code",
   "execution_count": 10,
   "id": "front-cookie",
   "metadata": {},
   "outputs": [],
   "source": [
    "\n",
    "\n",
    "def regcognized(evt):\n",
    "    print(evt.result.text)\n",
    "    f= open( \"churchill.txt\",\"a\")\n",
    "    f.write(evt.result.text)\n",
    "    f.close()\n",
    "\n",
    "def speech_recognize_continuous_from_file():\n",
    "    \"\"\"performs continuous speech recognition with input from an audio file\"\"\"\n",
    "    speech_config = speechsdk.SpeechConfig(subscription=\"\", region=\"\")\n",
    "    audio_config = speechsdk.audio.AudioConfig(filename=\"Churchil.wav\")\n",
    " \n",
    "    speech_recognizer = speechsdk.SpeechRecognizer(speech_config=speech_config, language=\"en-GB\",audio_config=audio_config)\n",
    " \n",
    "    done = False\n",
    " \n",
    "    def stop_cb(evt):\n",
    "        \"\"\"callback that stops continuous recognition upon receiving an event `evt`\"\"\"\n",
    "        print('CLOSING on {}'.format(evt))\n",
    "        speech_recognizer.stop_continuous_recognition()\n",
    "        nonlocal done\n",
    "        done = True\n",
    "        \n",
    "    def split(evt):\n",
    "        st = re.search(r'\\\".+?\\\"',str(evt))\n",
    "        print(st.group(0).strip('\"'))\n",
    " \n",
    "\n",
    "    speech_recognizer.recognized.connect(lambda evt: regcognized((evt)))\n",
    "\n",
    "    speech_recognizer.session_stopped.connect(stop_cb)\n",
    "    speech_recognizer.canceled.connect(stop_cb)\n",
    "   # speech_recognizer.recognized.connect(split)\n",
    " \n",
    "    # Start continuous speech recognition\n",
    "    speech_recognizer.start_continuous_recognition()\n",
    "    while not done:\n",
    "        time.sleep(.5)"
   ]
  },
  {
   "cell_type": "code",
   "execution_count": 11,
   "id": "physical-carpet",
   "metadata": {},
   "outputs": [
    {
     "name": "stdout",
     "output_type": "stream",
     "text": [
      "When Napoleon led Blue line for a year with the fat bottom boats.\n",
      "And in Grand Army he was told by someone.\n",
      "There are bitter weeds in England.\n",
      "There are certainly a great many more of them since the British Expeditionary Force returned.\n",
      "So I have myself full confidence that you've all do their duty.\n",
      "If nothing is neglected, and if the best arrangements are made and they are being made, we should prove ourselves once more able to defend our island home.\n",
      "Ride out the storm of war.\n",
      "Man, do I believe the menace of tyranny.\n",
      "If necessary, via's.\n",
      "If necessary alone.\n",
      "Generate Daddy Broadway going to try to do.\n",
      "That is a result of His Majesty's Government everyman of them.\n",
      "That is the will of Parliament in the nation, the British Empire and the French Republic linked together in their course and in their need.\n",
      "Will defend to the death your native soil eating each other like good Cambridge to the utmost of their strings. We shall go onto the end.\n",
      "Mayfield fighting from.\n",
      "We will fight on the season oceans. We should fight with growing confidence and growing strength in the air.\n",
      "We should defend our island, whatever the cost may be.\n",
      "We shall fight on the beaches. We should fight on the landing grounds, will fight in the fields and in the streets. We still fight in the Hills.\n",
      "We shall never surrender, and if we could, I do not, for a moment believe.\n",
      "Little Island or a large part of it was subjugated and starving.\n",
      "In our empire beyond the seeds, armed and guarded by the blue feet.\n",
      "Would carry on the struggle until in God's good time the New World, with all its power and might steps forth to the rescue and the liberation of the old.\n",
      "CLOSING on SpeechRecognitionCanceledEventArgs(session_id=fb26579a4e6341189c93772dfdccdca3, result=SpeechRecognitionResult(result_id=d9017dd1316342f3aa8c01b9094d5fbc, text=\"\", reason=ResultReason.Canceled))\n",
      "CLOSING on SessionEventArgs(session_id=fb26579a4e6341189c93772dfdccdca3)\n"
     ]
    }
   ],
   "source": [
    "speech_recognize_continuous_from_file()\n"
   ]
  },
  {
   "cell_type": "markdown",
   "id": "attractive-efficiency",
   "metadata": {},
   "source": [
    "## Transcript result"
   ]
  },
  {
   "cell_type": "code",
   "execution_count": 12,
   "id": "welsh-establishment",
   "metadata": {},
   "outputs": [
    {
     "name": "stdout",
     "output_type": "stream",
     "text": [
      "We shall never surrender, and if we could, I do not, for a moment believe.Little Island or large part of it was subjugated and starving.Then our empire beyond the seas armed and guarded by the blue feet.When Napoleon led Blue line for a year with the fat bottom boats.And in Grand Army he was told by someone.There are bitter weeds in England.There are certainly a great many more of them since the British Expeditionary Force returned.So I have myself full confidence that you've all do their duty.If nothing is neglected, and if the best arrangements are made and they are being made, we should prove ourselves once more able to defend our island home.Ride out the storm of war.Man, do I believe the menace of tyranny.If necessary, via's.If necessary alone.Generate Daddy Broadway going to try to do.That is a result of His Majesty's Government everyman of them.That is the will of Parliament in the nation, the British Empire and the French Republic linked together in their course and in their need.Will defend to the death your native soil eating each other like good Cambridge to the utmost of their strings. We shall go onto the end.Mayfield fighting from.We will fight on the season oceans. We should fight with growing confidence and growing strength in the air.We should defend our island, whatever the cost may be.We shall fight on the beaches. We should fight on the landing grounds, will fight in the fields and in the streets. We still fight in the Hills.We shall never surrender, and if we could, I do not, for a moment believe.Little Island or a large part of it was subjugated and starving.In our empire beyond the seeds, armed and guarded by the blue feet.Would carry on the struggle until in God's good time the New World, with all its power and might steps forth to the rescue and the liberation of the old.\n"
     ]
    }
   ],
   "source": [
    "f = open(\"churchill.txt\", \"r\")\n",
    "print(f.read())"
   ]
  },
  {
   "cell_type": "markdown",
   "id": "charged-administrator",
   "metadata": {},
   "source": [
    "## Translate English transcript to spanish"
   ]
  },
  {
   "cell_type": "code",
   "execution_count": 38,
   "id": "prostate-highlight",
   "metadata": {},
   "outputs": [],
   "source": [
    "import requests, uuid, json\n",
    "\n",
    "# Add your subscription key and endpoint\n",
    "subscription_key = \"\"\n",
    "endpoint = \"https://api.cognitive.microsofttranslator.com\"\n",
    "\n",
    "f = open(\"churchill.txt\", \"r\")\n",
    "English_speech = f.read()\n",
    "\n",
    "# Add your location, also known as region. The default is global.\n",
    "# This is required if using a Cognitive Services resource.\n",
    "location = \"eastus\"\n",
    "\n",
    "path = '/translate'\n",
    "constructed_url = endpoint + path\n",
    "\n",
    "params = {\n",
    "    'api-version': '3.0',\n",
    "    'from': 'en',\n",
    "    'to': ['es']\n",
    "}\n",
    "constructed_url = endpoint + path\n",
    "\n",
    "headers = {\n",
    "    'Ocp-Apim-Subscription-Key': subscription_key,\n",
    "    'Ocp-Apim-Subscription-Region': location,\n",
    "    'Content-type': 'application/json',\n",
    "    'X-ClientTraceId': str(uuid.uuid4())\n",
    "}\n",
    "\n",
    "# You can pass more than one object in body.\n",
    "body = [{\n",
    "    'text': English_speech\n",
    "}]\n",
    "\n",
    "request = requests.post(constructed_url, params=params, headers=headers, json=body)\n",
    "response = request.json()\n"
   ]
  },
  {
   "cell_type": "code",
   "execution_count": 39,
   "id": "adolescent-nevada",
   "metadata": {},
   "outputs": [],
   "source": [
    "trans = json.dumps(response, sort_keys=True, ensure_ascii=False, indent=4, separators=(',', ': '))"
   ]
  },
  {
   "cell_type": "code",
   "execution_count": 40,
   "id": "swiss-table",
   "metadata": {},
   "outputs": [],
   "source": [
    "resp_dict = json.loads(trans)\n",
    "\n",
    "spanish_speech = resp_dict[0][\"translations\"][0][\"text\"]"
   ]
  },
  {
   "cell_type": "markdown",
   "id": "played-tracker",
   "metadata": {},
   "source": [
    "Spanish Translation"
   ]
  },
  {
   "cell_type": "code",
   "execution_count": 41,
   "id": "oriented-thought",
   "metadata": {},
   "outputs": [
    {
     "name": "stdout",
     "output_type": "stream",
     "text": [
      "Nunca nos rendiremos, y si pudiéramos, no lo creo, por un momento. Little Island o gran parte de ella fue subyugado y hambriento. Entonces nuestro imperio más allá de los mares armado y custodiado por los pies azules. Cuando Napoleón dirigió la línea azul durante un año con los barcos gordos de fondo. Y en el Gran Ejército alguien le dijo. Hay hierbas amargas en Inglaterra.Ciertamente hay muchas más de ellas desde que la Fuerza Expedicionaria Británica regresó. Así que tengo plena confianza en que todos ustedes han cumplir con su deber. Si no se descuida nada, y si se hacen los mejores arreglos y se están haciendo, deberíamos demostrar que una vez más somos capaces de defender nuestra isla de casa. Sal de la tormenta de la guerra. Hombre, creo que la amenaza de la tiranía. Si es necesario, a través de. Si es necesario solo. Generar papá Broadway va a tratar de hacer. Eso es el resultado del Gobierno de Su Majestad cada uno de ellos. Esa es la voluntad del Parlamento en la nación, el Imperio Británico y la República Francesa unidos en su curso y en sus necesidades. Defenderá hasta la muerte tu tierra natal comiéndose el uno al otro como la buena Cambridge al máximo de sus cuerdas. Iremos hasta el final. Mayfield luchando desde. Lucharemos en los océanos de temporada. Debemos luchar con creciente confianza y fuerza creciente en el aire. Debemos defender nuestra isla, sea cual sea el costo. Lucharemos en las playas. Debemos luchar en los terrenos de aterrizaje, lucharemos en los campos y en las calles. Seguimos luchando en las Colinas.Nunca nos rendiremos, y si pudiéramos, no lo creo, por un momento. Little Island o una gran parte de ella fue subyugada y hambrosa. En nuestro imperio más allá de las semillas, armados y custodiados por los pies azules. Continuaría la lucha hasta que en el buen momento de Dios el Nuevo Mundo, con todo su poder y podría dar un paso adelante hacia el rescate y la liberación de los viejos.\n"
     ]
    }
   ],
   "source": [
    "print(spanish_speech)"
   ]
  },
  {
   "cell_type": "markdown",
   "id": "experimental-trace",
   "metadata": {},
   "source": [
    "## SpeechSynthesizer, spanish text to voice"
   ]
  },
  {
   "cell_type": "code",
   "execution_count": 69,
   "id": "remarkable-alias",
   "metadata": {},
   "outputs": [],
   "source": [
    "def speech_synthesis_to_wave_file(spanish_speech):\n",
    "    \"\"\"performs speech synthesis to a wave file\"\"\"\n",
    "    # Creates an instance of a speech config with specified subscription key and service region.\n",
    "    speech_config = speechsdk.SpeechConfig(subscription=\"\", region=\"\")\n",
    "    \n",
    "    language = \"es-ES\";\n",
    "    speech_config.speech_synthesis_language = language\n",
    "    \n",
    "    # Creates a speech synthesizer using file as audio output.\n",
    "    # Replace with your own audio file name.\n",
    "    file_name = \"outputaudio_spanish.wav\"\n",
    "    file_config = speechsdk.audio.AudioOutputConfig(filename=file_name)\n",
    "    speech_synthesizer = speechsdk.SpeechSynthesizer(speech_config=speech_config, audio_config=file_config)\n",
    "\n",
    "\n",
    "    result = speech_synthesizer.speak_text_async(spanish_speech).get()\n",
    "\n"
   ]
  },
  {
   "cell_type": "code",
   "execution_count": 70,
   "id": "mechanical-coach",
   "metadata": {},
   "outputs": [],
   "source": [
    "speech_synthesis_to_wave_file(spanish_speech)"
   ]
  },
  {
   "cell_type": "markdown",
   "id": "twenty-conjunction",
   "metadata": {},
   "source": [
    "## Play Final result"
   ]
  },
  {
   "cell_type": "code",
   "execution_count": 71,
   "id": "subjective-projection",
   "metadata": {},
   "outputs": [
    {
     "name": "stdout",
     "output_type": "stream",
     "text": [
      "pygame 2.0.1 (SDL 2.0.14, Python 3.7.3)\n",
      "Hello from the pygame community. https://www.pygame.org/contribute.html\n"
     ]
    }
   ],
   "source": [
    "from pygame import mixer  # Load the popular external library\n",
    "\n",
    "mixer.init()\n",
    "mixer.music.load('outputaudio_spanish.wav')\n",
    "mixer.music.play()"
   ]
  }
 ],
 "metadata": {
  "kernelspec": {
   "display_name": "Python 3",
   "language": "python",
   "name": "python3"
  },
  "language_info": {
   "codemirror_mode": {
    "name": "ipython",
    "version": 3
   },
   "file_extension": ".py",
   "mimetype": "text/x-python",
   "name": "python",
   "nbconvert_exporter": "python",
   "pygments_lexer": "ipython3",
   "version": "3.7.3"
  }
 },
 "nbformat": 4,
 "nbformat_minor": 5
}
